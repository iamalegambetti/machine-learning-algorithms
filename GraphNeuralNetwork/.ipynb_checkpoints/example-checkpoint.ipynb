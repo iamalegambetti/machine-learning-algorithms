{
 "cells": [
  {
   "cell_type": "code",
   "execution_count": 1,
   "id": "1584be09",
   "metadata": {},
   "outputs": [],
   "source": [
    "# import libraries\n",
    "\n",
    "import torch\n",
    "from torch_geometric.datasets import FakeDataset # to generate a dataset\n",
    "from torch_geometric.utils import to_dense_adj # to compute the adjacency matrix \n",
    "from model import GNN\n",
    "from sklearn.metrics import precision_score, accuracy_score, recall_score, confusion_matrix"
   ]
  },
  {
   "cell_type": "code",
   "execution_count": 2,
   "id": "79ca1ee7",
   "metadata": {},
   "outputs": [],
   "source": [
    "# dataset\n",
    "\n",
    "dataset = FakeDataset(num_graphs=1, num_channels=64, num_classes=2, avg_num_nodes = 3000)"
   ]
  },
  {
   "cell_type": "code",
   "execution_count": 3,
   "id": "98f13ca8",
   "metadata": {},
   "outputs": [
    {
     "name": "stdout",
     "output_type": "stream",
     "text": [
      "number of graphs:\t\t 1\n",
      "number of classes:\t\t 2\n",
      "number of node features:\t 64\n",
      "number of edge features:\t 0\n"
     ]
    }
   ],
   "source": [
    "# some info\n",
    "\n",
    "print(\"number of graphs:\\t\\t\",len(dataset))\n",
    "print(\"number of classes:\\t\\t\",dataset.num_classes)\n",
    "print(\"number of node features:\\t\",dataset.num_node_features)\n",
    "print(\"number of edge features:\\t\",dataset.num_edge_features)"
   ]
  },
  {
   "cell_type": "code",
   "execution_count": 4,
   "id": "d050890a",
   "metadata": {},
   "outputs": [],
   "source": [
    "# get data object\n",
    "\n",
    "data = dataset.data"
   ]
  },
  {
   "cell_type": "code",
   "execution_count": 5,
   "id": "3644d76d",
   "metadata": {},
   "outputs": [],
   "source": [
    "# unroll features, edges and target var \n",
    "\n",
    "X, edges, y = data.x, data.edge_index, data.y.unsqueeze(1)"
   ]
  },
  {
   "cell_type": "code",
   "execution_count": 6,
   "id": "3b581576",
   "metadata": {},
   "outputs": [
    {
     "data": {
      "text/plain": [
       "torch.Size([2570, 2570])"
      ]
     },
     "execution_count": 6,
     "metadata": {},
     "output_type": "execute_result"
    }
   ],
   "source": [
    "# make adjacency matrix with utils function\n",
    "\n",
    "A = to_dense_adj(edges).squeeze(0)\n",
    "A.shape"
   ]
  },
  {
   "cell_type": "code",
   "execution_count": 19,
   "id": "a94bfcd7",
   "metadata": {},
   "outputs": [],
   "source": [
    "# model \n",
    "\n",
    "gnn = GNN(learning_rate=0.1, EPOCHS = 1000)\n",
    "gnn.fit(X, A, y)"
   ]
  },
  {
   "cell_type": "code",
   "execution_count": 20,
   "id": "5bc5ac86",
   "metadata": {},
   "outputs": [],
   "source": [
    "preds = gnn.predict(X, A)"
   ]
  },
  {
   "cell_type": "code",
   "execution_count": 21,
   "id": "98a0ef09",
   "metadata": {},
   "outputs": [
    {
     "name": "stdout",
     "output_type": "stream",
     "text": [
      "Accuracy: 0.5093385214007782\n",
      "Precision: 0.6613798572561459\n",
      "Recall: 0.5\n"
     ]
    },
    {
     "data": {
      "text/plain": [
       "array([[475, 427],\n",
       "       [834, 834]])"
      ]
     },
     "execution_count": 21,
     "metadata": {},
     "output_type": "execute_result"
    }
   ],
   "source": [
    "print(f\"Accuracy: {accuracy_score(preds, y)}\\nPrecision: {precision_score(preds, y)}\\nRecall: {recall_score(preds, y)}\")\n",
    "confusion_matrix(preds, y)"
   ]
  },
  {
   "cell_type": "markdown",
   "id": "000ceb89",
   "metadata": {},
   "source": [
    "### Potential issues with low performance:\n",
    "\n",
    "    - Gradient exploding/vanishing -> revise way to init them\n",
    "    - Learning rate too low/high"
   ]
  },
  {
   "cell_type": "code",
   "execution_count": null,
   "id": "33c18114",
   "metadata": {},
   "outputs": [],
   "source": []
  }
 ],
 "metadata": {
  "kernelspec": {
   "display_name": "Python 3 (ipykernel)",
   "language": "python",
   "name": "python3"
  },
  "language_info": {
   "codemirror_mode": {
    "name": "ipython",
    "version": 3
   },
   "file_extension": ".py",
   "mimetype": "text/x-python",
   "name": "python",
   "nbconvert_exporter": "python",
   "pygments_lexer": "ipython3",
   "version": "3.10.4"
  }
 },
 "nbformat": 4,
 "nbformat_minor": 5
}
