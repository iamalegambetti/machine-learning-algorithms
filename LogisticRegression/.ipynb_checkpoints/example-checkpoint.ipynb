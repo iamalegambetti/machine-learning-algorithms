{
 "cells": [
  {
   "cell_type": "code",
   "execution_count": 5,
   "id": "9e0f6732",
   "metadata": {},
   "outputs": [],
   "source": [
    "# import dependencies\n",
    "\n",
    "import torch\n",
    "from sklearn.datasets import make_classification\n",
    "from sklearn.model_selection import train_test_split\n",
    "from sklearn.metrics import accuracy_score, precision_score, recall_score, confusion_matrix\n",
    "from model import LogisticRegression"
   ]
  },
  {
   "cell_type": "code",
   "execution_count": 2,
   "id": "bd804d1f",
   "metadata": {},
   "outputs": [],
   "source": [
    "# data\n",
    "\n",
    "X, y = make_classification(n_samples = 10_000, n_features = 10)"
   ]
  },
  {
   "cell_type": "code",
   "execution_count": 3,
   "id": "1a8806bd",
   "metadata": {},
   "outputs": [],
   "source": [
    "# train test split\n",
    "\n",
    "X_train, X_test, y_train, y_test = train_test_split(X, y, test_size=0.2, random_state=42)"
   ]
  },
  {
   "cell_type": "code",
   "execution_count": 4,
   "id": "9b65b42d",
   "metadata": {},
   "outputs": [],
   "source": [
    "# to tensor \n",
    "\n",
    "X_train = torch.tensor(X_train, dtype = torch.float32)\n",
    "X_test = torch.tensor(X_test, dtype = torch.float32)\n",
    "y_train = torch.tensor(y_train, dtype = torch.int32).unsqueeze(1)\n",
    "y_test = torch.tensor(y_test, dtype = torch.int32).unsqueeze(1)"
   ]
  },
  {
   "cell_type": "code",
   "execution_count": 6,
   "id": "74c7c4bc",
   "metadata": {},
   "outputs": [],
   "source": [
    "# init model and fit\n",
    "\n",
    "lg = LogisticRegression()\n",
    "lg.fit(X_train, y_train)"
   ]
  },
  {
   "cell_type": "code",
   "execution_count": 7,
   "id": "c974e9a4",
   "metadata": {},
   "outputs": [],
   "source": [
    "preds = lg.predict(X_test)"
   ]
  },
  {
   "cell_type": "code",
   "execution_count": 8,
   "id": "4356ff94",
   "metadata": {},
   "outputs": [
    {
     "name": "stdout",
     "output_type": "stream",
     "text": [
      "Accuracy: 0.9085\n",
      "Precision: 0.889589905362776\n",
      "Recall: 0.9155844155844156\n"
     ]
    },
    {
     "data": {
      "text/plain": [
       "array([[971, 105],\n",
       "       [ 78, 846]])"
      ]
     },
     "execution_count": 8,
     "metadata": {},
     "output_type": "execute_result"
    }
   ],
   "source": [
    "print(f\"Accuracy: {accuracy_score(preds, y_test)}\\nPrecision: {precision_score(preds, y_test)}\\nRecall: {recall_score(preds, y_test)}\")\n",
    "confusion_matrix(preds, y_test)"
   ]
  },
  {
   "cell_type": "code",
   "execution_count": null,
   "id": "693675b1",
   "metadata": {},
   "outputs": [],
   "source": []
  }
 ],
 "metadata": {
  "kernelspec": {
   "display_name": "Python 3 (ipykernel)",
   "language": "python",
   "name": "python3"
  },
  "language_info": {
   "codemirror_mode": {
    "name": "ipython",
    "version": 3
   },
   "file_extension": ".py",
   "mimetype": "text/x-python",
   "name": "python",
   "nbconvert_exporter": "python",
   "pygments_lexer": "ipython3",
   "version": "3.10.4"
  }
 },
 "nbformat": 4,
 "nbformat_minor": 5
}
