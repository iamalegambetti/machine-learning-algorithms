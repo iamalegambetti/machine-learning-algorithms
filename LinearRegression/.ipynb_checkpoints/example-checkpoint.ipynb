{
 "cells": [
  {
   "cell_type": "code",
   "execution_count": 15,
   "id": "aea00f1d",
   "metadata": {},
   "outputs": [],
   "source": [
    "# load dependencies \n",
    "\n",
    "import torch\n",
    "from sklearn.datasets import make_regression\n",
    "from sklearn.model_selection import train_test_split\n",
    "from sklearn.metrics import mean_squared_error, r2_score\n",
    "from model import LinearRegression"
   ]
  },
  {
   "cell_type": "code",
   "execution_count": 6,
   "id": "99f84696",
   "metadata": {},
   "outputs": [],
   "source": [
    "# data\n",
    "\n",
    "X, y = make_regression(n_samples = 10_000, n_features = 10)"
   ]
  },
  {
   "cell_type": "code",
   "execution_count": 7,
   "id": "c78687a2",
   "metadata": {},
   "outputs": [],
   "source": [
    "# train test split\n",
    "\n",
    "X_train, X_test, y_train, y_test = train_test_split(X, y, test_size=0.2, random_state=42)"
   ]
  },
  {
   "cell_type": "code",
   "execution_count": 8,
   "id": "be7ea5f7",
   "metadata": {},
   "outputs": [],
   "source": [
    "# to tensor \n",
    "\n",
    "X_train = torch.tensor(X_train, dtype = torch.float32)\n",
    "X_test = torch.tensor(X_test, dtype = torch.float32)\n",
    "y_train = torch.tensor(y_train, dtype = torch.float32).unsqueeze(1)\n",
    "y_test = torch.tensor(y_test, dtype = torch.float32).unsqueeze(1)"
   ]
  },
  {
   "cell_type": "code",
   "execution_count": 9,
   "id": "716d8004",
   "metadata": {},
   "outputs": [],
   "source": [
    "# init model and fit \n",
    "\n",
    "lr = LinearRegression()\n",
    "lr.fit(X_train, y_train)"
   ]
  },
  {
   "cell_type": "code",
   "execution_count": 10,
   "id": "7c71694f",
   "metadata": {},
   "outputs": [],
   "source": [
    "# predict \n",
    "\n",
    "preds = lr.predict(X_test)"
   ]
  },
  {
   "cell_type": "code",
   "execution_count": 13,
   "id": "94602b60",
   "metadata": {},
   "outputs": [
    {
     "name": "stdout",
     "output_type": "stream",
     "text": [
      "MSE: 0.00013316355762071908\n",
      "R2: 0.9999999966723422\n"
     ]
    }
   ],
   "source": [
    "# metrics\n",
    "\n",
    "print(f\"MSE: {mean_squared_error(preds, y_test)}\\nR2: {r2_score(preds, y_test)}\")"
   ]
  },
  {
   "cell_type": "code",
   "execution_count": null,
   "id": "2592cacf",
   "metadata": {},
   "outputs": [],
   "source": []
  }
 ],
 "metadata": {
  "kernelspec": {
   "display_name": "Python 3 (ipykernel)",
   "language": "python",
   "name": "python3"
  },
  "language_info": {
   "codemirror_mode": {
    "name": "ipython",
    "version": 3
   },
   "file_extension": ".py",
   "mimetype": "text/x-python",
   "name": "python",
   "nbconvert_exporter": "python",
   "pygments_lexer": "ipython3",
   "version": "3.10.4"
  }
 },
 "nbformat": 4,
 "nbformat_minor": 5
}
